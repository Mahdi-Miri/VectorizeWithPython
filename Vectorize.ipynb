{
  "nbformat": 4,
  "nbformat_minor": 0,
  "metadata": {
    "colab": {
      "provenance": [],
      "authorship_tag": "ABX9TyOnUpc7WXlwBbRabJ+8Yex0",
      "include_colab_link": true
    },
    "kernelspec": {
      "name": "python3",
      "display_name": "Python 3"
    },
    "language_info": {
      "name": "python"
    }
  },
  "cells": [
    {
      "cell_type": "markdown",
      "metadata": {
        "id": "view-in-github",
        "colab_type": "text"
      },
      "source": [
        "<a href=\"https://colab.research.google.com/github/Mahdi-Miri/VectorizeWithPython/blob/main/Vectorize.ipynb\" target=\"_parent\"><img src=\"https://colab.research.google.com/assets/colab-badge.svg\" alt=\"Open In Colab\"/></a>"
      ]
    },
    {
      "cell_type": "code",
      "source": [
        "import nltk\n",
        "from nltk import sent_tokenize\n",
        "from nltk.corpus import stopwords\n",
        "from nltk.stem import PorterStemmer\n",
        "import re"
      ],
      "metadata": {
        "id": "FDBGoq4PM6xl"
      },
      "execution_count": 38,
      "outputs": []
    },
    {
      "cell_type": "code",
      "source": [
        "nltk.download('punkt')"
      ],
      "metadata": {
        "colab": {
          "base_uri": "https://localhost:8080/"
        },
        "id": "E84cC_DwNoRW",
        "outputId": "904cb740-4abd-4748-e731-c0811e5db23e"
      },
      "execution_count": 22,
      "outputs": [
        {
          "output_type": "stream",
          "name": "stderr",
          "text": [
            "[nltk_data] Downloading package punkt to /root/nltk_data...\n",
            "[nltk_data]   Package punkt is already up-to-date!\n"
          ]
        },
        {
          "output_type": "execute_result",
          "data": {
            "text/plain": [
              "True"
            ]
          },
          "metadata": {},
          "execution_count": 22
        }
      ]
    },
    {
      "cell_type": "code",
      "source": [
        "text = \"\"\"A major drawback of statistical methods is that they require elaborate feature engineering.\n",
        "Since the early 2010s, the field has thus largely abandoned statistical methods and shifted to neural networks for machine learning.\n",
        "Popular techniques include the use of word embeddings to capture semantic properties of words, and an increase in end-to-end learning of a higher-level task (e.g., question answering) instead of relying on a pipeline of separate intermediate tasks (e.g., part-of-speech tagging and dependency parsing).\n",
        "In some areas, this shift has entailed substantial changes in how NLP systems are designed, such that deep neural network-based approaches may be viewed as a new paradigm distinct from statistical natural language processing.\n",
        "For instance, the term neural machine translation (NMT) emphasizes the fact that deep learning-based approaches to machine translation directly learn sequence-to-sequence transformations, obviating the need for intermediate steps such as word alignment and language modeling that was used in statistical machine translation (SMT).\n",
        "Latest works tend to use non-technical structure of a given task to build proper neural network\"\"\""
      ],
      "metadata": {
        "id": "GOCdxc_KNEA5"
      },
      "execution_count": 23,
      "outputs": []
    },
    {
      "cell_type": "code",
      "source": [
        "text"
      ],
      "metadata": {
        "colab": {
          "base_uri": "https://localhost:8080/",
          "height": 218
        },
        "id": "i2f6oYHLNIvo",
        "outputId": "e4611260-84ac-4b82-ced4-b1cb9d679a7b"
      },
      "execution_count": 24,
      "outputs": [
        {
          "output_type": "execute_result",
          "data": {
            "text/plain": [
              "'A major drawback of statistical methods is that they require elaborate feature engineering. \\nSince the early 2010s, the field has thus largely abandoned statistical methods and shifted to neural networks for machine learning. \\nPopular techniques include the use of word embeddings to capture semantic properties of words, and an increase in end-to-end learning of a higher-level task (e.g., question answering) instead of relying on a pipeline of separate intermediate tasks (e.g., part-of-speech tagging and dependency parsing).\\nIn some areas, this shift has entailed substantial changes in how NLP systems are designed, such that deep neural network-based approaches may be viewed as a new paradigm distinct from statistical natural language processing. \\nFor instance, the term neural machine translation (NMT) emphasizes the fact that deep learning-based approaches to machine translation directly learn sequence-to-sequence transformations, obviating the need for intermediate steps such as word alignment and language modeling that was used in statistical machine translation (SMT). \\nLatest works tend to use non-technical structure of a given task to build proper neural network'"
            ],
            "application/vnd.google.colaboratory.intrinsic+json": {
              "type": "string"
            }
          },
          "metadata": {},
          "execution_count": 24
        }
      ]
    },
    {
      "cell_type": "markdown",
      "source": [
        "# Cleaning Data"
      ],
      "metadata": {
        "id": "jNiucV47NNAl"
      }
    },
    {
      "cell_type": "code",
      "source": [
        "sentences = sent_tokenize(text)"
      ],
      "metadata": {
        "id": "c_OF8q7zNJbo"
      },
      "execution_count": 25,
      "outputs": []
    },
    {
      "cell_type": "code",
      "source": [
        "sentences"
      ],
      "metadata": {
        "colab": {
          "base_uri": "https://localhost:8080/"
        },
        "id": "gDyFdFtONbV2",
        "outputId": "2e746557-efdd-459e-ce7b-00d07382c3d2"
      },
      "execution_count": 26,
      "outputs": [
        {
          "output_type": "execute_result",
          "data": {
            "text/plain": [
              "['A major drawback of statistical methods is that they require elaborate feature engineering.',\n",
              " 'Since the early 2010s, the field has thus largely abandoned statistical methods and shifted to neural networks for machine learning.',\n",
              " 'Popular techniques include the use of word embeddings to capture semantic properties of words, and an increase in end-to-end learning of a higher-level task (e.g., question answering) instead of relying on a pipeline of separate intermediate tasks (e.g., part-of-speech tagging and dependency parsing).',\n",
              " 'In some areas, this shift has entailed substantial changes in how NLP systems are designed, such that deep neural network-based approaches may be viewed as a new paradigm distinct from statistical natural language processing.',\n",
              " 'For instance, the term neural machine translation (NMT) emphasizes the fact that deep learning-based approaches to machine translation directly learn sequence-to-sequence transformations, obviating the need for intermediate steps such as word alignment and language modeling that was used in statistical machine translation (SMT).',\n",
              " 'Latest works tend to use non-technical structure of a given task to build proper neural network']"
            ]
          },
          "metadata": {},
          "execution_count": 26
        }
      ]
    },
    {
      "cell_type": "code",
      "source": [
        "nltk.download('stopwords')"
      ],
      "metadata": {
        "id": "dfObLeuyRqaB",
        "outputId": "74b746b0-c072-4b0e-e5dc-07709b228938",
        "colab": {
          "base_uri": "https://localhost:8080/"
        }
      },
      "execution_count": 40,
      "outputs": [
        {
          "output_type": "stream",
          "name": "stderr",
          "text": [
            "[nltk_data] Downloading package stopwords to /root/nltk_data...\n",
            "[nltk_data]   Unzipping corpora/stopwords.zip.\n"
          ]
        },
        {
          "output_type": "execute_result",
          "data": {
            "text/plain": [
              "True"
            ]
          },
          "metadata": {},
          "execution_count": 40
        }
      ]
    },
    {
      "cell_type": "code",
      "source": [
        "stemmer = PorterStemmer()"
      ],
      "metadata": {
        "id": "FbsMvgg3R9Ei"
      },
      "execution_count": 46,
      "outputs": []
    },
    {
      "cell_type": "code",
      "source": [
        "for sent in sentences:\n",
        "  review = re.sub(\"[a-zA-Z]\" , \" \" , sent)\n",
        "  review = re.sub(\"\\b[a-zA-Z]\\b\", \" \" , sent)\n",
        "  review = review.lower()\n",
        "  review = review.split()\n",
        "  review = [stemmer.stem(word) for word in review if not word in set(stopwords.words('english'))]\n",
        "  print(review)\n",
        "  print(\"\\n\")"
      ],
      "metadata": {
        "colab": {
          "base_uri": "https://localhost:8080/"
        },
        "id": "ATN7CoXdN0Q2",
        "outputId": "373d5dc2-8758-436d-b14a-4b5371d7397c"
      },
      "execution_count": 48,
      "outputs": [
        {
          "output_type": "stream",
          "name": "stdout",
          "text": [
            "['major', 'drawback', 'statist', 'method', 'requir', 'elabor', 'featur', 'engineering.']\n",
            "\n",
            "\n",
            "['sinc', 'earli', '2010s,', 'field', 'thu', 'larg', 'abandon', 'statist', 'method', 'shift', 'neural', 'network', 'machin', 'learning.']\n",
            "\n",
            "\n",
            "['popular', 'techniqu', 'includ', 'use', 'word', 'embed', 'captur', 'semant', 'properti', 'words,', 'increas', 'end-to-end', 'learn', 'higher-level', 'task', '(e.g.,', 'question', 'answering)', 'instead', 'reli', 'pipelin', 'separ', 'intermedi', 'task', '(e.g.,', 'part-of-speech', 'tag', 'depend', 'parsing).']\n",
            "\n",
            "\n",
            "['areas,', 'shift', 'entail', 'substanti', 'chang', 'nlp', 'system', 'designed,', 'deep', 'neural', 'network-bas', 'approach', 'may', 'view', 'new', 'paradigm', 'distinct', 'statist', 'natur', 'languag', 'processing.']\n",
            "\n",
            "\n",
            "['instance,', 'term', 'neural', 'machin', 'translat', '(nmt)', 'emphas', 'fact', 'deep', 'learning-bas', 'approach', 'machin', 'translat', 'directli', 'learn', 'sequence-to-sequ', 'transformations,', 'obviat', 'need', 'intermedi', 'step', 'word', 'align', 'languag', 'model', 'use', 'statist', 'machin', 'translat', '(smt).']\n",
            "\n",
            "\n",
            "['latest', 'work', 'tend', 'use', 'non-techn', 'structur', 'given', 'task', 'build', 'proper', 'neural', 'network']\n",
            "\n",
            "\n"
          ]
        }
      ]
    },
    {
      "cell_type": "code",
      "source": [],
      "metadata": {
        "id": "gwpLfcPoPsKS"
      },
      "execution_count": null,
      "outputs": []
    }
  ]
}