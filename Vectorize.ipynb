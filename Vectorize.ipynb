{
  "nbformat": 4,
  "nbformat_minor": 0,
  "metadata": {
    "colab": {
      "provenance": [],
      "authorship_tag": "ABX9TyM0USyn8YFh2+V44U/2KCnB",
      "include_colab_link": true
    },
    "kernelspec": {
      "name": "python3",
      "display_name": "Python 3"
    },
    "language_info": {
      "name": "python"
    }
  },
  "cells": [
    {
      "cell_type": "markdown",
      "metadata": {
        "id": "view-in-github",
        "colab_type": "text"
      },
      "source": [
        "<a href=\"https://colab.research.google.com/github/Mahdi-Miri/VectorizeWithPython/blob/main/Vectorize.ipynb\" target=\"_parent\"><img src=\"https://colab.research.google.com/assets/colab-badge.svg\" alt=\"Open In Colab\"/></a>"
      ]
    },
    {
      "cell_type": "code",
      "execution_count": 1,
      "metadata": {
        "id": "LBo4TV-wINNN",
        "outputId": "396a69a6-f96b-4b9d-8b34-7f018f81aec9",
        "colab": {
          "base_uri": "https://localhost:8080/"
        }
      },
      "outputs": [
        {
          "output_type": "stream",
          "name": "stdout",
          "text": [
            "Collecting lorem\n",
            "  Downloading lorem-0.1.1-py3-none-any.whl.metadata (2.3 kB)\n",
            "Downloading lorem-0.1.1-py3-none-any.whl (5.0 kB)\n",
            "Installing collected packages: lorem\n",
            "Successfully installed lorem-0.1.1\n"
          ]
        }
      ],
      "source": [
        "!pip install lorem"
      ]
    },
    {
      "cell_type": "code",
      "source": [
        "import lorem\n",
        "import nltk\n",
        "from nltk import sent_tokenize"
      ],
      "metadata": {
        "id": "FDBGoq4PM6xl"
      },
      "execution_count": 12,
      "outputs": []
    },
    {
      "cell_type": "code",
      "source": [
        "nltk.download('punkt')"
      ],
      "metadata": {
        "id": "E84cC_DwNoRW",
        "outputId": "6a521778-17f8-4df4-fa32-4ac2cb1e5741",
        "colab": {
          "base_uri": "https://localhost:8080/"
        }
      },
      "execution_count": 13,
      "outputs": [
        {
          "output_type": "stream",
          "name": "stderr",
          "text": [
            "[nltk_data] Downloading package punkt to /root/nltk_data...\n",
            "[nltk_data]   Unzipping tokenizers/punkt.zip.\n"
          ]
        },
        {
          "output_type": "execute_result",
          "data": {
            "text/plain": [
              "True"
            ]
          },
          "metadata": {},
          "execution_count": 13
        }
      ]
    },
    {
      "cell_type": "code",
      "source": [
        "text = lorem.paragraph()"
      ],
      "metadata": {
        "id": "GOCdxc_KNEA5"
      },
      "execution_count": 14,
      "outputs": []
    },
    {
      "cell_type": "code",
      "source": [
        "text"
      ],
      "metadata": {
        "id": "i2f6oYHLNIvo",
        "outputId": "541404ab-6b71-477d-aa8f-319f22328595",
        "colab": {
          "base_uri": "https://localhost:8080/",
          "height": 90
        }
      },
      "execution_count": 15,
      "outputs": [
        {
          "output_type": "execute_result",
          "data": {
            "text/plain": [
              "'Quisquam amet aliquam adipisci modi. Quisquam tempora magnam aliquam non adipisci quisquam. Quaerat amet quiquia ipsum quiquia adipisci quiquia. Voluptatem amet est sed. Velit consectetur neque aliquam dolor adipisci. Magnam etincidunt adipisci tempora quaerat modi adipisci. Dolorem est etincidunt modi voluptatem quiquia quaerat. Eius dolore numquam magnam voluptatem.'"
            ],
            "application/vnd.google.colaboratory.intrinsic+json": {
              "type": "string"
            }
          },
          "metadata": {},
          "execution_count": 15
        }
      ]
    },
    {
      "cell_type": "markdown",
      "source": [
        "# Cleaning Data"
      ],
      "metadata": {
        "id": "jNiucV47NNAl"
      }
    },
    {
      "cell_type": "code",
      "source": [
        "sentences = sent_tokenize(text)"
      ],
      "metadata": {
        "id": "c_OF8q7zNJbo"
      },
      "execution_count": 16,
      "outputs": []
    },
    {
      "cell_type": "code",
      "source": [
        "sentences"
      ],
      "metadata": {
        "id": "gDyFdFtONbV2",
        "outputId": "a1fe75ef-d593-4c37-d100-e01c308a54ee",
        "colab": {
          "base_uri": "https://localhost:8080/"
        }
      },
      "execution_count": 17,
      "outputs": [
        {
          "output_type": "execute_result",
          "data": {
            "text/plain": [
              "['Quisquam amet aliquam adipisci modi.',\n",
              " 'Quisquam tempora magnam aliquam non adipisci quisquam.',\n",
              " 'Quaerat amet quiquia ipsum quiquia adipisci quiquia.',\n",
              " 'Voluptatem amet est sed.',\n",
              " 'Velit consectetur neque aliquam dolor adipisci.',\n",
              " 'Magnam etincidunt adipisci tempora quaerat modi adipisci.',\n",
              " 'Dolorem est etincidunt modi voluptatem quiquia quaerat.',\n",
              " 'Eius dolore numquam magnam voluptatem.']"
            ]
          },
          "metadata": {},
          "execution_count": 17
        }
      ]
    },
    {
      "cell_type": "code",
      "source": [],
      "metadata": {
        "id": "ATN7CoXdN0Q2"
      },
      "execution_count": null,
      "outputs": []
    }
  ]
}